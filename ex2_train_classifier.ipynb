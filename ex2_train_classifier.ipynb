{
  "nbformat": 4,
  "nbformat_minor": 0,
  "metadata": {
    "colab": {
      "name": "ex2_train_classifier.ipynb",
      "provenance": [],
      "collapsed_sections": [],
      "authorship_tag": "ABX9TyOPm5T1oPGZXJEtIkhqTSHP",
      "include_colab_link": true
    },
    "kernelspec": {
      "name": "python3",
      "display_name": "Python 3"
    },
    "language_info": {
      "name": "python"
    },
    "accelerator": "GPU"
  },
  "cells": [
    {
      "cell_type": "markdown",
      "metadata": {
        "id": "view-in-github",
        "colab_type": "text"
      },
      "source": [
        "<a href=\"https://colab.research.google.com/github/AIFFEL-GN-2nd/TotochTeam3/blob/main/ex2_train_classifier.ipynb\" target=\"_parent\"><img src=\"https://colab.research.google.com/assets/colab-badge.svg\" alt=\"Open In Colab\"/></a>"
      ]
    },
    {
      "cell_type": "code",
      "metadata": {
        "id": "hacLwtPvOqHJ"
      },
      "source": [
        "!nvidia-smi\n",
        "!python --version"
      ],
      "execution_count": null,
      "outputs": []
    },
    {
      "cell_type": "markdown",
      "metadata": {
        "id": "njj52d6BPqOr"
      },
      "source": [
        "# 1. Custom Dataset과 DataLoader 만들기\n",
        "\n",
        "Kaggle의 [Dogs vs. Cats dataset](https://www.kaggle.com/c/dogs-vs-cats/data)에서 데이터셋을 내려받습니다.  \n",
        "(제 구글드라이브에 이미 파일을 업로드해두었으므로, 아래 명령어를 통해 바로 내려받을 수 있습니다.)\n",
        "\n",
        "```\n",
        "$ pip install gdown\n",
        "$ gdown https://drive.google.com/uc?id=1RBVuPoOFTTSGioAOsUzy76wPSFg3hw5J\n",
        "$ gdown https://drive.google.com/uc?id=1AIIsrHpftkGEw0-8iKoLLrPoRCNWHq5R\n",
        "$ unzip -q ./train.zip\n",
        "!unzip -q ./test1.zip\n",
        "```"
      ]
    },
    {
      "cell_type": "markdown",
      "metadata": {
        "id": "iiHQO-B5IqVv"
      },
      "source": [
        "## 1-1. 데이터셋 확인"
      ]
    },
    {
      "cell_type": "code",
      "metadata": {
        "id": "mw0giu3iOxf2"
      },
      "source": [
        "# 데이터셋의 압축을 풀어보자.\n",
        "\n",
        "!pip install gdown\n",
        "!gdown https://drive.google.com/uc?id=1RBVuPoOFTTSGioAOsUzy76wPSFg3hw5J\n",
        "!gdown https://drive.google.com/uc?id=1AIIsrHpftkGEw0-8iKoLLrPoRCNWHq5R\n",
        "!unzip -q ./train.zip\n",
        "!unzip -q ./test1.zip"
      ],
      "execution_count": null,
      "outputs": []
    },
    {
      "cell_type": "code",
      "metadata": {
        "id": "fkZDMVu3Pdma"
      },
      "source": [
        "# train, test 데이터의 갯수를 확인해보자.\n",
        "\n",
        "import os\n",
        "\n",
        "train_files = os.listdir(\"./train\")\n",
        "test_files = os.listdir(\"./test1\")\n",
        "\n",
        "print(len(train_files))\n",
        "print(len(test_files))"
      ],
      "execution_count": null,
      "outputs": []
    },
    {
      "cell_type": "code",
      "metadata": {
        "id": "TLbkULplkFIg"
      },
      "source": [
        "# train data가 어떻게 구성되어있는지 확인하자.\n",
        "\n",
        "import cv2\n",
        "import matplotlib.pyplot as plt\n",
        "\n",
        "train_root = \"./train\"\n",
        "\n",
        "fig = plt.figure(figsize=(10, 10))\n",
        "for i, f in enumerate(train_files[:16], 1):\n",
        "    file_path = os.path.join(train_root, f)\n",
        "    img_bgr = cv2.imread(file_path, cv2.IMREAD_COLOR)\n",
        "    img_rgb = cv2.cvtColor(img_bgr, cv2.COLOR_BGR2RGB)\n",
        "    \n",
        "    ax = fig.add_subplot(4, 4, i)\n",
        "    ax.set_title(f)\n",
        "    ax.axis(\"off\")\n",
        "    \n",
        "    plt.imshow(img_rgb)\n",
        "    \n",
        "plt.show()"
      ],
      "execution_count": null,
      "outputs": []
    },
    {
      "cell_type": "code",
      "metadata": {
        "id": "0giQFl93o2Pj"
      },
      "source": [
        "# test data가 어떻게 구성되어있는지 확인하자.\n",
        "\n",
        "test_root = \"./test1\"\n",
        "\n",
        "fig = plt.figure(figsize=(10, 10))\n",
        "for i, f in enumerate(test_files[:16], 1):\n",
        "    file_path = os.path.join(test_root, f)\n",
        "    img_bgr = cv2.imread(file_path, cv2.IMREAD_COLOR)\n",
        "    img_rgb = cv2.cvtColor(img_bgr, cv2.COLOR_BGR2RGB)\n",
        "    \n",
        "    ax = fig.add_subplot(4, 4, i)\n",
        "    ax.set_title(f)\n",
        "    ax.axis(\"off\")\n",
        "    \n",
        "    plt.imshow(img_rgb)"
      ],
      "execution_count": null,
      "outputs": []
    },
    {
      "cell_type": "markdown",
      "metadata": {
        "id": "0zTfZ-whI91C"
      },
      "source": [
        "### 정리\n",
        "\n",
        "#### 데이터 갯수\n",
        "- train dataset : 25000장\n",
        "- test datset : 12500장\n",
        "\n",
        "#### train 데이터 형태\n",
        "- 파일 경로에 class명(dog/cat)이 포함되어 있음\n",
        "\n",
        "#### test 데이터 형태\n",
        "- 파일마다 numbering이 되어있음"
      ]
    },
    {
      "cell_type": "markdown",
      "metadata": {
        "id": "n-Gw88cVpDmX"
      },
      "source": [
        "## 1-2. Custom Dataset class 정의\n",
        "\n",
        "파이토치 튜토리얼에서 Custom Dataset class는 다음과 같다.\n",
        "\n",
        "```python\n",
        "class CustomImageDataset(Dataset):\n",
        "    def __init__(self):\n",
        "        ...\n",
        "        \n",
        "    def __len__(self):\n",
        "        ...\n",
        "\n",
        "    def __getitem__(self):\n",
        "        ...\n",
        "```\n",
        "\n",
        "`__init__`\n",
        "- image와 label의 경로와 transform 등을 설정합니다.\n",
        "\n",
        "`__len__`\n",
        "- 데이터셋의 샘플 개수를 반환합니다.\n",
        "\n",
        "`__getitem__`\n",
        "- 데이터셋에서 데이터를 불러옵니다."
      ]
    },
    {
      "cell_type": "code",
      "metadata": {
        "id": "IrA1QNOwJAx7"
      },
      "source": [
        "# Custom Dataset 클래스를 정의하자\n",
        "# 이미지 파일 경로, 레이블 정보, transform을 입력으로 받는다고 가정하자.\n",
        "\n",
        "from torch.utils.data import Dataset, DataLoader\n",
        "from PIL import Image\n",
        "\n",
        "class DogCatDataset(Dataset):\n",
        "    \n",
        "    def __init__(self, data_dir, file_list, label_list=None, train=True, transform=None):\n",
        "        self.data_dir = data_dir\n",
        "        self.file_list = file_list\n",
        "        self.transform = transform\n",
        "        self.train = train\n",
        "        if self.train:\n",
        "            self.label_list = label_list\n",
        "    \n",
        "    def __len__(self):\n",
        "        return len(self.file_list)\n",
        "    \n",
        "    def __getitem__(self, idx):\n",
        "        image = Image.open(os.path.join(self.data_dir, self.file_list[idx]))        \n",
        "        if self.transform:\n",
        "            image = self.transform(image)\n",
        "            \n",
        "        if self.train:\n",
        "            # image, label\n",
        "            return image, self.label_list[idx]\n",
        "        else:\n",
        "            # image, test file number\n",
        "            return image, self.file_list[idx][:-4]"
      ],
      "execution_count": null,
      "outputs": []
    },
    {
      "cell_type": "markdown",
      "metadata": {
        "id": "12lgEfuJJCJ0"
      },
      "source": [
        "## 1-3. Dataset 생성"
      ]
    },
    {
      "cell_type": "code",
      "metadata": {
        "id": "12nQs_GrJHm1"
      },
      "source": [
        "# train file의 label을 만들자 (cat: 0, dog: 1)\n",
        "\n",
        "train_files = sorted(os.listdir(\"./train\"))\n",
        "train_labels = [0 if \"cat\" in f else 1 for f in train_files]\n",
        "\n",
        "print(len(train_files), len(train_labels))"
      ],
      "execution_count": null,
      "outputs": []
    },
    {
      "cell_type": "code",
      "metadata": {
        "id": "vWWgkufjJIUL"
      },
      "source": [
        "# train set을 train과 validation set으로 나누자\n",
        "\n",
        "from sklearn.model_selection import train_test_split\n",
        "\n",
        "train_files, val_files, train_labels, val_labels = train_test_split(\n",
        "    train_files, train_labels, stratify=train_labels, random_state=42\n",
        ")\n",
        "\n",
        "# 잘 나누어졌는지 확인\n",
        "print(len(train_files), len(train_labels), train_labels.count(0), train_labels.count(1))\n",
        "print(len(val_files), len(val_labels), val_labels.count(0), val_labels.count(1))"
      ],
      "execution_count": null,
      "outputs": []
    },
    {
      "cell_type": "code",
      "metadata": {
        "id": "DC_aCTZGJLBc"
      },
      "source": [
        "# transform을 정의하자.\n",
        "# 참고 링크: https://pytorch.org/vision/stable/transforms.html\n",
        "\n",
        "import torchvision.transforms as transforms\n",
        "\n",
        "train_transform = transforms.Compose([\n",
        "    transforms.Resize(256),\n",
        "    transforms.RandomCrop(224),\n",
        "    transforms.ToTensor(), # 0~1로 scaling\n",
        "    transforms.Normalize((0.5, 0.5, 0.5), (0.5, 0.5, 0.5)), # zero-centering\n",
        "])\n",
        "\n",
        "eval_transform = transforms.Compose([\n",
        "    transforms.Resize(256),\n",
        "    transforms.CenterCrop(224),\n",
        "    transforms.ToTensor(), # 0~1로 scaling\n",
        "    transforms.Normalize((0.5, 0.5, 0.5), (0.5, 0.5, 0.5)), # -1~1로 zero-centering\n",
        "])"
      ],
      "execution_count": null,
      "outputs": []
    },
    {
      "cell_type": "code",
      "metadata": {
        "id": "Y7B8I7UxJMOp"
      },
      "source": [
        "# 이제 train, valid dataset을 만들 수 있다.\n",
        "\n",
        "train_dataset = DogCatDataset(data_dir=\"./train\",\n",
        "                              file_list=train_files,\n",
        "                              label_list=train_labels,\n",
        "                              train=True,\n",
        "                              transform=train_transform)\n",
        "\n",
        "val_dataset = DogCatDataset(data_dir=\"./train\",\n",
        "                            file_list=val_files,\n",
        "                            label_list=val_labels,\n",
        "                            train=True,\n",
        "                            transform=eval_transform)"
      ],
      "execution_count": null,
      "outputs": []
    },
    {
      "cell_type": "code",
      "metadata": {
        "id": "-shhFBQgJNTw"
      },
      "source": [
        "# 동일한 방식으로, test dataset도 만들어주자.\n",
        "\n",
        "test_files = sorted(os.listdir(\"./test1\"))\n",
        "test_dataset = DogCatDataset(data_dir=\"./test1\",\n",
        "                             file_list=test_files,\n",
        "                             train=False,\n",
        "                             transform=eval_transform)"
      ],
      "execution_count": null,
      "outputs": []
    },
    {
      "cell_type": "markdown",
      "metadata": {
        "id": "PBtVWnO0JO6K"
      },
      "source": [
        "## 1-4. DataLoader 생성"
      ]
    },
    {
      "cell_type": "code",
      "metadata": {
        "id": "D5yPC6ipJQbb"
      },
      "source": [
        "# DataLoader를 만들어보자.\n",
        "\n",
        "batch_size = 64\n",
        "\n",
        "train_loader = DataLoader(train_dataset, batch_size=batch_size, shuffle=True, num_workers=2)\n",
        "valid_loader = DataLoader(val_dataset, batch_size=batch_size, shuffle=False, num_workers=2)\n",
        "test_loader = DataLoader(test_dataset, batch_size=batch_size, shuffle=False, num_workers=2)"
      ],
      "execution_count": null,
      "outputs": []
    },
    {
      "cell_type": "code",
      "metadata": {
        "id": "FhowGidsJR8P"
      },
      "source": [
        "# train_loader가 잘 동작하는지 테스트해보자.\n",
        "\n",
        "images, labels = next(iter(train_loader))\n",
        "print(images.shape)\n",
        "print(labels)\n",
        "\n",
        "plt.imshow(images[0].permute(1, 2, 0))\n",
        "plt.title(labels[0].item())\n",
        "plt.axis(\"off\")\n",
        "plt.show()"
      ],
      "execution_count": null,
      "outputs": []
    },
    {
      "cell_type": "code",
      "metadata": {
        "id": "iXdozkZoJS5D"
      },
      "source": [
        "# val_loader가 잘 동작하는지 테스트해보자.\n",
        "\n",
        "images, labels = next(iter(valid_loader))\n",
        "print(images.shape)\n",
        "print(labels)\n",
        "\n",
        "plt.imshow(images[0].permute(1, 2, 0))\n",
        "plt.title(labels[0].item())\n",
        "plt.axis(\"off\")\n",
        "plt.show()"
      ],
      "execution_count": null,
      "outputs": []
    },
    {
      "cell_type": "code",
      "metadata": {
        "id": "71Dr03pNJUd8"
      },
      "source": [
        "# test_loader가 잘 동작하는지 테스트해보자.\n",
        "\n",
        "images, labels = next(iter(test_loader))\n",
        "print(images.shape)\n",
        "print(labels)\n",
        "\n",
        "plt.imshow(images[0].permute(1, 2, 0))\n",
        "plt.title(labels[0])\n",
        "plt.axis(\"off\")\n",
        "plt.show()"
      ],
      "execution_count": null,
      "outputs": []
    },
    {
      "cell_type": "markdown",
      "metadata": {
        "id": "kVpfyKN4ecHH"
      },
      "source": [
        "# 2. 모델 구성하기\n",
        "\n",
        "<img src=\"https://miro.medium.com/max/1400/1*gU5m4XO2awEM6Zp4DkirFA.png\" width=\"75%\" >\n",
        "\n",
        "- Input shape\n",
        "    - 3 x 224 x 224\n",
        "- Convolution\n",
        "    - 3x3 kernel size\n",
        "    - stride 1\n",
        "    - padding 1 (input, output resolution 유지)\n",
        "- MaxPooling\n",
        "    - 2x2 kernel size\n",
        "    - stride 2 (output resolution = (1/2) * input resolution)\n",
        "- Activation\n",
        "    - 모든 hidden layer의 뒤에는 ReLU 사용"
      ]
    },
    {
      "cell_type": "code",
      "metadata": {
        "id": "wyxTIjR6xaJ0"
      },
      "source": [
        "import torch\n",
        "import torch.nn as nn\n",
        "\n",
        "device = \"cuda:0\" if torch.cuda.is_available() else \"cpu\"\n",
        "print(device)"
      ],
      "execution_count": null,
      "outputs": []
    },
    {
      "cell_type": "code",
      "metadata": {
        "id": "67sKOFIH0J8o"
      },
      "source": [
        "# VGG16 - D\n",
        "class VGG16(nn.Module):\n",
        "\n",
        "    def __init__(self, n_classes=1000):\n",
        "        super().__init__()\n",
        "        \n",
        "        # conv3-64 x 2\n",
        "        self.conv_block1 = nn.Sequential(\n",
        "            nn.Conv2d(3, 64, kernel_size=3, stride=1, padding=1),\n",
        "            nn.ReLU(),\n",
        "            nn.Conv2d(64, 64, kernel_size=3, stride=1, padding=1),\n",
        "            nn.ReLU(),\n",
        "            nn.MaxPool2d(kernel_size=2, stride=2, padding=0),\n",
        "        )\n",
        "        # conv3-128 x 2\n",
        "        self.conv_block2 = nn.Sequential(\n",
        "            nn.Conv2d(64, 128, kernel_size=3, stride=1, padding=1),\n",
        "            nn.ReLU(),\n",
        "            nn.Conv2d(128, 128, kernel_size=3, stride=1, padding=1),\n",
        "            nn.ReLU(),\n",
        "            nn.MaxPool2d(kernel_size=2, stride=2, padding=0),\n",
        "        )\n",
        "        # conv3-256 x 3\n",
        "        self.conv_block3 = nn.Sequential(\n",
        "            nn.Conv2d(128, 256, kernel_size=3, stride=1, padding=1),\n",
        "            nn.ReLU(),\n",
        "            nn.Conv2d(256, 256, kernel_size=3, stride=1, padding=1),\n",
        "            nn.ReLU(),\n",
        "            nn.Conv2d(256, 256, kernel_size=3, stride=1, padding=1),\n",
        "            nn.ReLU(),\n",
        "            nn.MaxPool2d(kernel_size=2, stride=2, padding=0),\n",
        "        )\n",
        "        # conv4-512 x 3\n",
        "        self.conv_block4 = nn.Sequential(\n",
        "            nn.Conv2d(256, 512, kernel_size=3, stride=1, padding=1),\n",
        "            nn.ReLU(),\n",
        "            nn.Conv2d(512, 512, kernel_size=3, stride=1, padding=1),\n",
        "            nn.ReLU(),\n",
        "            nn.Conv2d(512, 512, kernel_size=3, stride=1, padding=1),\n",
        "            nn.ReLU(),\n",
        "            nn.MaxPool2d(kernel_size=2, stride=2, padding=0),\n",
        "        )\n",
        "        # conv5-512 x 3\n",
        "        self.conv_block5 = nn.Sequential(\n",
        "            nn.Conv2d(512, 512, kernel_size=3, stride=1, padding=1),\n",
        "            nn.ReLU(),\n",
        "            nn.Conv2d(512, 512, kernel_size=3, stride=1, padding=1),\n",
        "            nn.ReLU(),\n",
        "            nn.Conv2d(512, 512, kernel_size=3, stride=1, padding=1),\n",
        "            nn.ReLU(),\n",
        "            nn.MaxPool2d(kernel_size=2, stride=2, padding=0),\n",
        "        )\n",
        "        # fc layer x 3\n",
        "        self.fc1 = nn.Linear(512 * 7 * 7, 4096)\n",
        "        self.dropout1 = nn.Dropout(p=0.5)\n",
        "        self.fc2 = nn.Linear(4096, 4096)\n",
        "        self.dropout2 = nn.Dropout(p=0.5)\n",
        "        self.fc3 = nn.Linear(4096, n_classes)\n",
        "        \n",
        "        # weight initialization\n",
        "        for m in self.modules():\n",
        "            if isinstance(m, nn.Conv2d):\n",
        "                nn.init.kaiming_normal_(m.weight, mode='fan_out', nonlinearity='relu')\n",
        "                nn.init.constant_(m.bias, 0)\n",
        "            elif isinstance(m, nn.Linear):\n",
        "                nn.init.xavier_normal_(m.weight)\n",
        "                nn.init.constant_(m.bias, 0)\n",
        "\n",
        "    def forward(self, x):\n",
        "        x = self.conv_block1(x)\n",
        "        x = self.conv_block2(x)\n",
        "        x = self.conv_block3(x)\n",
        "        x = self.conv_block4(x)\n",
        "        x = self.conv_block5(x)\n",
        "\n",
        "        x = x.view(-1, 512 * 7 * 7)\n",
        "\n",
        "        x = self.fc1(x)\n",
        "        x = self.dropout1(x)\n",
        "        x = self.fc2(x)\n",
        "        x = self.dropout2(x)\n",
        "        x = self.fc3(x)\n",
        "\n",
        "        return x\n",
        "\n",
        "\n",
        "model = VGG16(n_classes=2).to(device)\n",
        "print(model)"
      ],
      "execution_count": null,
      "outputs": []
    },
    {
      "cell_type": "code",
      "metadata": {
        "id": "ukX2bxrhH6Oh"
      },
      "source": [
        "from torch import optim\n",
        "\n",
        "loss_fn = nn.CrossEntropyLoss()\n",
        "optimizer = optim.Adam(model.parameters(), lr=1e-5)"
      ],
      "execution_count": null,
      "outputs": []
    },
    {
      "cell_type": "code",
      "metadata": {
        "id": "kdg8bDRV4GWd"
      },
      "source": [
        "def train_loop(data_loader, model, loss_fn, optimizer):\n",
        "    size = len(data_loader.dataset)\n",
        "\n",
        "    model.train()\n",
        "    for batch, (X, y) in enumerate(data_loader):\n",
        "        X, y = X.to(device), y.to(device)\n",
        "\n",
        "        pred = model(X)\n",
        "        loss = loss_fn(pred, y)\n",
        "\n",
        "        optimizer.zero_grad()\n",
        "        loss.backward()\n",
        "        optimizer.step()\n",
        "\n",
        "        if batch % 100 == 0:\n",
        "            loss = loss.item()\n",
        "            current = batch * len(X)\n",
        "            print(f\"loss: {loss:>7f} [{current:>5d} / {size:>5d}]\")"
      ],
      "execution_count": null,
      "outputs": []
    },
    {
      "cell_type": "code",
      "metadata": {
        "id": "hUtfEJJfISBm"
      },
      "source": [
        "def test_loop(data_loader, model, loss_fn):\n",
        "    size = len(data_loader.dataset)\n",
        "    num_batches = len(data_loader)\n",
        "    test_loss = 0\n",
        "    correct = 0\n",
        "\n",
        "    model.eval() # for dropout\n",
        "    with torch.no_grad():\n",
        "        for X, y in data_loader:\n",
        "            X, y = X.to(device), y.to(device)\n",
        "            pred = model(X)\n",
        "            test_loss += loss_fn(pred, y).item()\n",
        "            correct += (pred.argmax(1) == y).type(torch.float).sum().item()\n",
        "\n",
        "    test_loss /= num_batches\n",
        "    correct /= size\n",
        "    print(f\"Test Error: \\n\"\n",
        "          f\"Accuracy: {100 * correct:>0.1f}%, Avg loss: {test_loss:>8f} \\n\")"
      ],
      "execution_count": null,
      "outputs": []
    },
    {
      "cell_type": "code",
      "metadata": {
        "id": "wSmMGhvcOa7N"
      },
      "source": [
        "epochs = 50\n",
        "for t in range(epochs):\n",
        "    print(f\"Epoch {t+1}\\n-------------------------------\")\n",
        "    train_loop(train_loader, model, loss_fn, optimizer)\n",
        "    test_loop(valid_loader, model, loss_fn)\n",
        "print(\"Done!\")"
      ],
      "execution_count": null,
      "outputs": []
    },
    {
      "cell_type": "code",
      "metadata": {
        "id": "9lRkRex9Pj09"
      },
      "source": [
        "file_nums_list = []\n",
        "pred_labels_list = []\n",
        "\n",
        "model.eval()\n",
        "for X, files in test_loader:A\n",
        "    with torch.no_grad():\n",
        "        X = X.to(device)\n",
        "        pred = model(X)\n",
        "        pred_labels = pred.argmax(1)\n",
        "        pred_labels_list += [label.item() for label in pred_labels]\n",
        "        file_nums_list += [f for f in files]\n",
        "\n",
        "\n",
        "submission = pd.DataFrame({\"id\":file_nums_list, \"label\":pred_labels_list})\n",
        "submission.to_csv('preds_vgg16.csv', index=False)"
      ],
      "execution_count": null,
      "outputs": []
    },
    {
      "cell_type": "code",
      "metadata": {
        "id": "9KkuCN49jhZn"
      },
      "source": [
        "!ls"
      ],
      "execution_count": null,
      "outputs": []
    }
  ]
}