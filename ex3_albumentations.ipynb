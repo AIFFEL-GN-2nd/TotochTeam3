{
  "nbformat": 4,
  "nbformat_minor": 0,
  "metadata": {
    "colab": {
      "name": "ex3_albumentations.ipynb",
      "provenance": [],
      "collapsed_sections": [],
      "authorship_tag": "ABX9TyPH290m3nLaCC8rA9wJA8W7",
      "include_colab_link": true
    },
    "kernelspec": {
      "name": "python3",
      "display_name": "Python 3"
    },
    "language_info": {
      "name": "python"
    },
    "accelerator": "GPU"
  },
  "cells": [
    {
      "cell_type": "markdown",
      "metadata": {
        "id": "view-in-github",
        "colab_type": "text"
      },
      "source": [
        "<a href=\"https://colab.research.google.com/github/AIFFEL-GN-2nd/TotochTeam3/blob/main/ex3_albumentations.ipynb\" target=\"_parent\"><img src=\"https://colab.research.google.com/assets/colab-badge.svg\" alt=\"Open In Colab\"/></a>"
      ]
    },
    {
      "cell_type": "code",
      "metadata": {
        "id": "hacLwtPvOqHJ",
        "colab": {
          "base_uri": "https://localhost:8080/"
        },
        "outputId": "9d245da6-2195-4b80-8cb4-78801b81dcf5"
      },
      "source": [
        "!nvidia-smi\n",
        "!python --version"
      ],
      "execution_count": null,
      "outputs": [
        {
          "output_type": "stream",
          "name": "stdout",
          "text": [
            "Thu Oct  7 16:53:02 2021       \n",
            "+-----------------------------------------------------------------------------+\n",
            "| NVIDIA-SMI 470.74       Driver Version: 460.32.03    CUDA Version: 11.2     |\n",
            "|-------------------------------+----------------------+----------------------+\n",
            "| GPU  Name        Persistence-M| Bus-Id        Disp.A | Volatile Uncorr. ECC |\n",
            "| Fan  Temp  Perf  Pwr:Usage/Cap|         Memory-Usage | GPU-Util  Compute M. |\n",
            "|                               |                      |               MIG M. |\n",
            "|===============================+======================+======================|\n",
            "|   0  Tesla P100-PCIE...  Off  | 00000000:00:04.0 Off |                    0 |\n",
            "| N/A   34C    P0    26W / 250W |      0MiB / 16280MiB |      0%      Default |\n",
            "|                               |                      |                  N/A |\n",
            "+-------------------------------+----------------------+----------------------+\n",
            "                                                                               \n",
            "+-----------------------------------------------------------------------------+\n",
            "| Processes:                                                                  |\n",
            "|  GPU   GI   CI        PID   Type   Process name                  GPU Memory |\n",
            "|        ID   ID                                                   Usage      |\n",
            "|=============================================================================|\n",
            "|  No running processes found                                                 |\n",
            "+-----------------------------------------------------------------------------+\n",
            "Python 3.7.12\n"
          ]
        }
      ]
    },
    {
      "cell_type": "markdown",
      "metadata": {
        "id": "njj52d6BPqOr"
      },
      "source": [
        "# 1. 데이터셋 불러오기"
      ]
    },
    {
      "cell_type": "code",
      "metadata": {
        "id": "mw0giu3iOxf2",
        "colab": {
          "base_uri": "https://localhost:8080/"
        },
        "outputId": "ce1ac4b7-cb94-4c9d-b26d-6558feeaaa62"
      },
      "source": [
        "# 데이터셋의 압축을 풀어보자.\n",
        "\n",
        "!pip install gdown\n",
        "!gdown https://drive.google.com/uc?id=1RBVuPoOFTTSGioAOsUzy76wPSFg3hw5J\n",
        "!gdown https://drive.google.com/uc?id=1AIIsrHpftkGEw0-8iKoLLrPoRCNWHq5R\n",
        "!unzip -q ./train.zip\n",
        "!unzip -q ./test1.zip"
      ],
      "execution_count": null,
      "outputs": [
        {
          "output_type": "stream",
          "name": "stdout",
          "text": [
            "Requirement already satisfied: gdown in /usr/local/lib/python3.7/dist-packages (3.6.4)\n",
            "Requirement already satisfied: tqdm in /usr/local/lib/python3.7/dist-packages (from gdown) (4.62.3)\n",
            "Requirement already satisfied: six in /usr/local/lib/python3.7/dist-packages (from gdown) (1.15.0)\n",
            "Requirement already satisfied: requests in /usr/local/lib/python3.7/dist-packages (from gdown) (2.23.0)\n",
            "Requirement already satisfied: chardet<4,>=3.0.2 in /usr/local/lib/python3.7/dist-packages (from requests->gdown) (3.0.4)\n",
            "Requirement already satisfied: urllib3!=1.25.0,!=1.25.1,<1.26,>=1.21.1 in /usr/local/lib/python3.7/dist-packages (from requests->gdown) (1.24.3)\n",
            "Requirement already satisfied: idna<3,>=2.5 in /usr/local/lib/python3.7/dist-packages (from requests->gdown) (2.10)\n",
            "Requirement already satisfied: certifi>=2017.4.17 in /usr/local/lib/python3.7/dist-packages (from requests->gdown) (2021.5.30)\n",
            "Downloading...\n",
            "From: https://drive.google.com/uc?id=1RBVuPoOFTTSGioAOsUzy76wPSFg3hw5J\n",
            "To: /content/train.zip\n",
            "100% 570M/570M [00:10<00:00, 52.2MB/s]\n",
            "Downloading...\n",
            "From: https://drive.google.com/uc?id=1AIIsrHpftkGEw0-8iKoLLrPoRCNWHq5R\n",
            "To: /content/test1.zip\n",
            "100% 284M/284M [00:03<00:00, 77.4MB/s]\n"
          ]
        }
      ]
    },
    {
      "cell_type": "code",
      "metadata": {
        "id": "fkZDMVu3Pdma",
        "colab": {
          "base_uri": "https://localhost:8080/"
        },
        "outputId": "e89395c2-eb75-47e3-d302-ad8da64997da"
      },
      "source": [
        "import os\n",
        "\n",
        "train_root = \"./train\"\n",
        "train_files = sorted(os.listdir(train_root))\n",
        "print(len(train_files))"
      ],
      "execution_count": null,
      "outputs": [
        {
          "output_type": "stream",
          "name": "stdout",
          "text": [
            "25000\n"
          ]
        }
      ]
    },
    {
      "cell_type": "markdown",
      "metadata": {
        "id": "IYh0r5TGjUDu"
      },
      "source": [
        "# 2. Torchvision + PIL vs. Albumentations + OpenCV"
      ]
    },
    {
      "cell_type": "code",
      "metadata": {
        "colab": {
          "base_uri": "https://localhost:8080/"
        },
        "id": "b9d2xTUSkvkH",
        "outputId": "2a438524-b0ba-49a7-f299-c3f5e752a4a2"
      },
      "source": [
        "!pip install -U albumentations"
      ],
      "execution_count": null,
      "outputs": [
        {
          "output_type": "stream",
          "name": "stdout",
          "text": [
            "Requirement already satisfied: albumentations in /usr/local/lib/python3.7/dist-packages (0.1.12)\n",
            "Collecting albumentations\n",
            "  Downloading albumentations-1.1.0-py3-none-any.whl (102 kB)\n",
            "\u001b[K     |████████████████████████████████| 102 kB 5.5 MB/s \n",
            "\u001b[?25hRequirement already satisfied: numpy>=1.11.1 in /usr/local/lib/python3.7/dist-packages (from albumentations) (1.19.5)\n",
            "Requirement already satisfied: scipy in /usr/local/lib/python3.7/dist-packages (from albumentations) (1.4.1)\n",
            "Collecting opencv-python-headless>=4.1.1\n",
            "  Downloading opencv_python_headless-4.5.3.56-cp37-cp37m-manylinux2014_x86_64.whl (37.1 MB)\n",
            "\u001b[K     |████████████████████████████████| 37.1 MB 58.1 MB/s \n",
            "\u001b[?25hCollecting qudida>=0.0.4\n",
            "  Downloading qudida-0.0.4-py3-none-any.whl (3.5 kB)\n",
            "Requirement already satisfied: PyYAML in /usr/local/lib/python3.7/dist-packages (from albumentations) (3.13)\n",
            "Requirement already satisfied: scikit-image>=0.16.1 in /usr/local/lib/python3.7/dist-packages (from albumentations) (0.16.2)\n",
            "Requirement already satisfied: typing-extensions in /usr/local/lib/python3.7/dist-packages (from qudida>=0.0.4->albumentations) (3.7.4.3)\n",
            "Requirement already satisfied: scikit-learn>=0.19.1 in /usr/local/lib/python3.7/dist-packages (from qudida>=0.0.4->albumentations) (0.22.2.post1)\n",
            "Requirement already satisfied: PyWavelets>=0.4.0 in /usr/local/lib/python3.7/dist-packages (from scikit-image>=0.16.1->albumentations) (1.1.1)\n",
            "Requirement already satisfied: pillow>=4.3.0 in /usr/local/lib/python3.7/dist-packages (from scikit-image>=0.16.1->albumentations) (7.1.2)\n",
            "Requirement already satisfied: matplotlib!=3.0.0,>=2.0.0 in /usr/local/lib/python3.7/dist-packages (from scikit-image>=0.16.1->albumentations) (3.2.2)\n",
            "Requirement already satisfied: imageio>=2.3.0 in /usr/local/lib/python3.7/dist-packages (from scikit-image>=0.16.1->albumentations) (2.4.1)\n",
            "Requirement already satisfied: networkx>=2.0 in /usr/local/lib/python3.7/dist-packages (from scikit-image>=0.16.1->albumentations) (2.6.3)\n",
            "Requirement already satisfied: cycler>=0.10 in /usr/local/lib/python3.7/dist-packages (from matplotlib!=3.0.0,>=2.0.0->scikit-image>=0.16.1->albumentations) (0.10.0)\n",
            "Requirement already satisfied: pyparsing!=2.0.4,!=2.1.2,!=2.1.6,>=2.0.1 in /usr/local/lib/python3.7/dist-packages (from matplotlib!=3.0.0,>=2.0.0->scikit-image>=0.16.1->albumentations) (2.4.7)\n",
            "Requirement already satisfied: kiwisolver>=1.0.1 in /usr/local/lib/python3.7/dist-packages (from matplotlib!=3.0.0,>=2.0.0->scikit-image>=0.16.1->albumentations) (1.3.2)\n",
            "Requirement already satisfied: python-dateutil>=2.1 in /usr/local/lib/python3.7/dist-packages (from matplotlib!=3.0.0,>=2.0.0->scikit-image>=0.16.1->albumentations) (2.8.2)\n",
            "Requirement already satisfied: six in /usr/local/lib/python3.7/dist-packages (from cycler>=0.10->matplotlib!=3.0.0,>=2.0.0->scikit-image>=0.16.1->albumentations) (1.15.0)\n",
            "Requirement already satisfied: joblib>=0.11 in /usr/local/lib/python3.7/dist-packages (from scikit-learn>=0.19.1->qudida>=0.0.4->albumentations) (1.0.1)\n",
            "Installing collected packages: opencv-python-headless, qudida, albumentations\n",
            "  Attempting uninstall: albumentations\n",
            "    Found existing installation: albumentations 0.1.12\n",
            "    Uninstalling albumentations-0.1.12:\n",
            "      Successfully uninstalled albumentations-0.1.12\n",
            "Successfully installed albumentations-1.1.0 opencv-python-headless-4.5.3.56 qudida-0.0.4\n"
          ]
        }
      ]
    },
    {
      "cell_type": "markdown",
      "metadata": {
        "id": "sRN4LWHQjabS"
      },
      "source": [
        "## 2.1 Transforms"
      ]
    },
    {
      "cell_type": "code",
      "metadata": {
        "colab": {
          "base_uri": "https://localhost:8080/"
        },
        "id": "d9gs8lrokG15",
        "outputId": "64d5544a-c508-49a9-b97c-568605b057a9"
      },
      "source": [
        "from PIL import Image\n",
        "import torchvision.transforms as transforms\n",
        "\n",
        "transform_torchvision = transforms.Compose([\n",
        "    transforms.ToTensor(),\n",
        "    transforms.Normalize((0.5, 0.5, 0.5), (0.5, 0.5, 0.5)),\n",
        "])\n",
        "\n",
        "file_path = os.path.join(train_root, train_files[0])\n",
        "image = Image.open(file_path)\n",
        "image_transformed = transform_torchvision(image)\n",
        "print(image_transformed)\n",
        "print(image_transformed.max(), image_transformed.min())"
      ],
      "execution_count": null,
      "outputs": [
        {
          "output_type": "stream",
          "name": "stdout",
          "text": [
            "tensor([[[ 0.5922,  0.5922,  0.6000,  ...,  0.8824,  0.8745,  0.8667],\n",
            "         [ 0.5922,  0.5922,  0.6000,  ...,  0.8902,  0.8824,  0.8667],\n",
            "         [ 0.5922,  0.5922,  0.6000,  ...,  0.8902,  0.8824,  0.8745],\n",
            "         ...,\n",
            "         [ 0.2000,  0.2000,  0.2000,  ..., -0.9843, -0.9843, -0.9843],\n",
            "         [ 0.1922,  0.1922,  0.1922,  ..., -0.9843, -0.9843, -0.9843],\n",
            "         [ 0.1843,  0.1843,  0.1843,  ..., -0.9922, -0.9922, -0.9922]],\n",
            "\n",
            "        [[ 0.2863,  0.2863,  0.2941,  ...,  0.5765,  0.5686,  0.5608],\n",
            "         [ 0.2863,  0.2863,  0.2941,  ...,  0.5843,  0.5765,  0.5608],\n",
            "         [ 0.2863,  0.2863,  0.2941,  ...,  0.5843,  0.5765,  0.5686],\n",
            "         ...,\n",
            "         [-0.0431, -0.0431, -0.0431,  ..., -0.9843, -0.9843, -0.9843],\n",
            "         [-0.0510, -0.0510, -0.0510,  ..., -0.9843, -0.9843, -0.9843],\n",
            "         [-0.0588, -0.0588, -0.0588,  ..., -0.9922, -0.9922, -0.9922]],\n",
            "\n",
            "        [[-0.3176, -0.3176, -0.3098,  ..., -0.0431, -0.0510, -0.0588],\n",
            "         [-0.3176, -0.3176, -0.3098,  ..., -0.0353, -0.0431, -0.0588],\n",
            "         [-0.3176, -0.3176, -0.3098,  ..., -0.0353, -0.0431, -0.0510],\n",
            "         ...,\n",
            "         [-0.5686, -0.5686, -0.5686,  ..., -1.0000, -1.0000, -1.0000],\n",
            "         [-0.5765, -0.5765, -0.5765,  ..., -1.0000, -1.0000, -1.0000],\n",
            "         [-0.5843, -0.5843, -0.5843,  ..., -1.0000, -1.0000, -1.0000]]])\n",
            "tensor(1.) tensor(-1.)\n"
          ]
        }
      ]
    },
    {
      "cell_type": "code",
      "metadata": {
        "colab": {
          "base_uri": "https://localhost:8080/"
        },
        "id": "mi8vzjpZkrZh",
        "outputId": "052a3aab-7538-438c-f41f-5ce684796ab4"
      },
      "source": [
        "import cv2\n",
        "import albumentations as A\n",
        "from albumentations.pytorch import ToTensorV2\n",
        "\n",
        "transform_albumentations = A.Compose([\n",
        "    A.Normalize((0.5, 0.5, 0.5), (0.5, 0.5, 0.5)),\n",
        "    ToTensorV2(),\n",
        "])\n",
        "\n",
        "file_path = os.path.join(train_root, train_files[0])\n",
        "image = cv2.imread(file_path, cv2.IMREAD_COLOR)\n",
        "image = cv2.cvtColor(image, cv2.COLOR_BGR2RGB)\n",
        "image_transformed = transform_albumentations(image=image)\n",
        "image_transformed = image_transformed[\"image\"]\n",
        "print(image_transformed)\n",
        "print(image_transformed.max(), image_transformed.min())"
      ],
      "execution_count": null,
      "outputs": [
        {
          "output_type": "stream",
          "name": "stdout",
          "text": [
            "tensor([[[ 0.5922,  0.5922,  0.6000,  ...,  0.8824,  0.8745,  0.8667],\n",
            "         [ 0.5922,  0.5922,  0.6000,  ...,  0.8902,  0.8824,  0.8667],\n",
            "         [ 0.5922,  0.5922,  0.6000,  ...,  0.8902,  0.8824,  0.8745],\n",
            "         ...,\n",
            "         [ 0.2000,  0.2000,  0.2000,  ..., -0.9843, -0.9843, -0.9843],\n",
            "         [ 0.1922,  0.1922,  0.1922,  ..., -0.9843, -0.9843, -0.9843],\n",
            "         [ 0.1843,  0.1843,  0.1843,  ..., -0.9922, -0.9922, -0.9922]],\n",
            "\n",
            "        [[ 0.2863,  0.2863,  0.2941,  ...,  0.5765,  0.5686,  0.5608],\n",
            "         [ 0.2863,  0.2863,  0.2941,  ...,  0.5843,  0.5765,  0.5608],\n",
            "         [ 0.2863,  0.2863,  0.2941,  ...,  0.5843,  0.5765,  0.5686],\n",
            "         ...,\n",
            "         [-0.0431, -0.0431, -0.0431,  ..., -0.9843, -0.9843, -0.9843],\n",
            "         [-0.0510, -0.0510, -0.0510,  ..., -0.9843, -0.9843, -0.9843],\n",
            "         [-0.0588, -0.0588, -0.0588,  ..., -0.9922, -0.9922, -0.9922]],\n",
            "\n",
            "        [[-0.3176, -0.3176, -0.3098,  ..., -0.0431, -0.0510, -0.0588],\n",
            "         [-0.3176, -0.3176, -0.3098,  ..., -0.0353, -0.0431, -0.0588],\n",
            "         [-0.3176, -0.3176, -0.3098,  ..., -0.0353, -0.0431, -0.0510],\n",
            "         ...,\n",
            "         [-0.5686, -0.5686, -0.5686,  ..., -1.0000, -1.0000, -1.0000],\n",
            "         [-0.5765, -0.5765, -0.5765,  ..., -1.0000, -1.0000, -1.0000],\n",
            "         [-0.5843, -0.5843, -0.5843,  ..., -1.0000, -1.0000, -1.0000]]])\n",
            "tensor(1.) tensor(-1.)\n"
          ]
        }
      ]
    },
    {
      "cell_type": "markdown",
      "metadata": {
        "id": "vDqG1_qJnyYh"
      },
      "source": [
        "## 2.2 Speed"
      ]
    },
    {
      "cell_type": "code",
      "metadata": {
        "id": "rSBa-sP7n_yC"
      },
      "source": [
        "import time\n",
        "\n",
        "train_file_path_list = [os.path.join(train_root, f) for f in train_files]"
      ],
      "execution_count": null,
      "outputs": []
    },
    {
      "cell_type": "code",
      "metadata": {
        "colab": {
          "base_uri": "https://localhost:8080/"
        },
        "id": "nKWbwAbcohrd",
        "outputId": "66ec9129-846b-4e01-a6e3-87f0b5c1e063"
      },
      "source": [
        "start = time.time()\n",
        "\n",
        "transform_torchvision = transforms.Compose([\n",
        "    transforms.Resize(256),\n",
        "    transforms.RandomCrop(224),\n",
        "    transforms.ToTensor(),\n",
        "    transforms.Normalize((0.5, 0.5, 0.5), (0.5, 0.5, 0.5)),\n",
        "])\n",
        "\n",
        "for file_path in train_file_path_list:\n",
        "    image = Image.open(file_path)\n",
        "    transform_torchvision(image)\n",
        "\n",
        "print(f\"Elapsed time: {time.time() - start}s\")"
      ],
      "execution_count": null,
      "outputs": [
        {
          "output_type": "stream",
          "name": "stdout",
          "text": [
            "Elapsed time: 109.78422498703003s\n"
          ]
        }
      ]
    },
    {
      "cell_type": "code",
      "metadata": {
        "colab": {
          "base_uri": "https://localhost:8080/"
        },
        "id": "oFkWMIAIpUtd",
        "outputId": "313c1769-dd96-4842-80ef-a79c7f3a6593"
      },
      "source": [
        "start = time.time()\n",
        "\n",
        "transform_albumentations = A.Compose([\n",
        "    A.Resize(256, 256),\n",
        "    A.RandomCrop(224, 224),\n",
        "    A.Normalize((0.5, 0.5, 0.5), (0.5, 0.5, 0.5)),\n",
        "    ToTensorV2(),\n",
        "])\n",
        "\n",
        "for file_path in train_file_path_list:\n",
        "    image = cv2.imread(file_path, cv2.IMREAD_COLOR)\n",
        "    image = cv2.cvtColor(image, cv2.COLOR_BGR2RGB)\n",
        "    transform_albumentations(image=image)\n",
        "\n",
        "print(f\"Elapsed time: {time.time() - start}s\")"
      ],
      "execution_count": null,
      "outputs": [
        {
          "output_type": "stream",
          "name": "stdout",
          "text": [
            "Elapsed time: 76.18698382377625s\n"
          ]
        }
      ]
    }
  ]
}